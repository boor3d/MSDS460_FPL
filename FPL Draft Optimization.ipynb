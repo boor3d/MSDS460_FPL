{
 "cells": [
  {
   "cell_type": "code",
   "execution_count": null,
   "id": "7d8a3242",
   "metadata": {},
   "outputs": [],
   "source": [
    "import pandas as pd\n",
    "from pulp import LpVariable, LpProblem, LpMaximize, LpStatus, value, lpSum\n",
    "\n",
    "\n",
    "data_all = pd.read_csv('')\n",
    "data = data_all[data_all['GW'] == 1]\n",
    "\n",
    "\n",
    "positions = pd.get_dummies(data.position)\n",
    "teams =     pd.get_dummies(data.team)\n",
    "\n",
    "names =   [data.name[i] for i in range(len(data))]\n",
    "points =  [data.total_points[i] for i in range(len(data))]\n",
    "pos_def = [positions.DEF[i] for i in range(len(positions))]\n",
    "pos_fwd = [positions.FWD[i] for i in range(len(positions))]\n",
    "pos_gk =  [positions.GK[i] for i in range(len(positions))]\n",
    "pos_mid = [positions.MID[i] for i in range(len(positions))]\n",
    "value =   [data.value[i] for i in range(len(data))]\n",
    "\n",
    "# Problem\n",
    "prob = LpProblem('Problem', LpMaximize)\n",
    "\n",
    "# Variables\n",
    "x1 = [LpVariable('x' + str(i), cat='Binary') for i in range(len(data))]\n",
    "\n",
    "\n",
    "\n",
    "#  Objective\n",
    "prob += (lpSum(x1[i] * points[i] for i in range(len(data))))\n",
    "\n",
    "\n",
    "\n",
    "# Constraints\n",
    "prob += lpSum(x1[i] * value[i] for i in range(len(data))) <= 1000  # Budget\n",
    "prob += lpSum(x1[i] * pos_gk[i] for i in range(len(data))) == 2  # Goalkeepers\n",
    "prob += lpSum(x1[i] * pos_fwd[i] for i in range(len(data))) == 3  # Forwards\n",
    "prob += lpSum(x1[i] * pos_mid[i] for i in range(len(data))) == 5  # Midfielders\n",
    "prob += lpSum(x1[i] * pos_def[i] for i in range(len(data))) == 5  # Defenders\n",
    "\n",
    "\n",
    "for team in teams.columns:\n",
    "    prob += lpSum(x1[i] * teams[team].values[i] for i in range(len(data))) <= 3 # Teammate restriction \n",
    "    \n",
    "\n",
    "status = prob.solve()\n",
    "\n",
    "print(f\"status={LpStatus[status]}\")\n"
   ]
  },
  {
   "cell_type": "code",
   "execution_count": null,
   "id": "c4c15873",
   "metadata": {},
   "outputs": [],
   "source": [
    "team_pts = []\n",
    "team_cost = []\n",
    "team_roster = []\n",
    "team_pos = []\n",
    "team_team = []\n",
    "count = 0\n",
    "\n",
    "for var in sorted(prob.variables(), key=lambda v: int(v.name[1:])):\n",
    "    if var.varValue == 1:\n",
    "        team_roster.append(names[count])\n",
    "        team_pos.append(data.position[count])\n",
    "        team_team.append(data.team[count])\n",
    "        team_pts.append(points[count])\n",
    "        team_cost.append(value[count])\n",
    "    count += 1\n",
    "    \n",
    "print('points:',sum(team_pts))\n",
    "print('cost:', sum(team_cost))"
   ]
  },
  {
   "cell_type": "code",
   "execution_count": null,
   "id": "93a994c1",
   "metadata": {},
   "outputs": [],
   "source": [
    "roster_dict = {'player' : team_roster, 'position' : team_pos, 'team' : team_team, 'points' : team_pts, 'cost' : team_cost}\n",
    "\n",
    "\n",
    "opt_roster = pd.DataFrame(roster_dict)\n",
    "opt_roster"
   ]
  },
  {
   "cell_type": "code",
   "execution_count": null,
   "id": "f8f5e366",
   "metadata": {},
   "outputs": [],
   "source": []
  },
  {
   "cell_type": "code",
   "execution_count": null,
   "id": "b55d60cb",
   "metadata": {},
   "outputs": [],
   "source": []
  },
  {
   "cell_type": "code",
   "execution_count": null,
   "id": "33f83187",
   "metadata": {},
   "outputs": [],
   "source": []
  },
  {
   "cell_type": "code",
   "execution_count": null,
   "id": "7b147bce",
   "metadata": {},
   "outputs": [],
   "source": []
  }
 ],
 "metadata": {
  "kernelspec": {
   "display_name": "Python 3",
   "language": "python",
   "name": "python3"
  },
  "language_info": {
   "codemirror_mode": {
    "name": "ipython",
    "version": 3
   },
   "file_extension": ".py",
   "mimetype": "text/x-python",
   "name": "python",
   "nbconvert_exporter": "python",
   "pygments_lexer": "ipython3",
   "version": "3.8.8"
  }
 },
 "nbformat": 4,
 "nbformat_minor": 5
}
